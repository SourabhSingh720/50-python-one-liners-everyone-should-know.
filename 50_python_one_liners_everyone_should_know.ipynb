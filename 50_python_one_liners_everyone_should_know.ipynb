{
  "nbformat": 4,
  "nbformat_minor": 0,
  "metadata": {
    "colab": {
      "provenance": []
    },
    "kernelspec": {
      "name": "python3",
      "display_name": "Python 3"
    },
    "language_info": {
      "name": "python"
    }
  },
  "cells": [
    {
      "cell_type": "code",
      "execution_count": null,
      "metadata": {
        "colab": {
          "base_uri": "https://localhost:8080/"
        },
        "id": "dpSWgZiJeX_g",
        "outputId": "3696aa7b-f0dd-4a2d-ac83-b88f92ae99df"
      },
      "outputs": [
        {
          "output_type": "stream",
          "name": "stdout",
          "text": [
            "anagram\n",
            "anagram\n"
          ]
        }
      ],
      "source": [
        "#1. Anagram\n",
        "from collections import Counter\n",
        "\n",
        "s1 = 'below'\n",
        "s2 = 'elbow'\n",
        "\n",
        "#print('anagram') if Counter(s1) == Counter(s2) else print('not an anagram')\n",
        "print('anagram') if sorted(s1) == sorted(s2) else print('not an anagram')\n",
        "#Anagram is a word, phrase, or name formed by rearranging the letters of another, such as spar, formed from rasp."
      ]
    },
    {
      "cell_type": "code",
      "source": [
        "#2. Binary to decimal\n",
        "#format:int(number in inverted column,total numbers in the language)\n",
        "decimal = int('1010', 2)\n",
        "print(decimal) "
      ],
      "metadata": {
        "colab": {
          "base_uri": "https://localhost:8080/"
        },
        "id": "IUlH-BPoejyh",
        "outputId": "61dc8566-573c-41ae-abd6-8377fdfa91df"
      },
      "execution_count": null,
      "outputs": [
        {
          "output_type": "stream",
          "name": "stdout",
          "text": [
            "10\n"
          ]
        }
      ]
    },
    {
      "cell_type": "code",
      "source": [
        "#3. Converting string to lower case\n",
        "\"Hi my name is Sourabh\".lower()         #string value to lower alphabet\n",
        "\"Hi my name is SoURaBh\".casefold()"
      ],
      "metadata": {
        "colab": {
          "base_uri": "https://localhost:8080/",
          "height": 36
        },
        "id": "zQe7S7O7hdMG",
        "outputId": "e5ca99ec-ca48-44f6-dac1-a4f2fc1e8012"
      },
      "execution_count": null,
      "outputs": [
        {
          "output_type": "execute_result",
          "data": {
            "text/plain": [
              "'hi my name is sourabh'"
            ],
            "application/vnd.google.colaboratory.intrinsic+json": {
              "type": "string"
            }
          },
          "metadata": {},
          "execution_count": 14
        }
      ]
    },
    {
      "cell_type": "markdown",
      "source": [
        "The casefold() method is similar to the lower() method but it is more aggressive. \n",
        "This means the casefold() method converts more characters into lower case compared to lower() . \n",
        "For example, the German letter ß is already lowercase so, the lower() method doesn't make the conversion."
      ],
      "metadata": {
        "id": "1PEadaoJiXi7"
      }
    },
    {
      "cell_type": "code",
      "source": [
        "#4. Converting string to upper case\n",
        "\"hi my name is SOURabh\".upper()        #string value to lower alphabet"
      ],
      "metadata": {
        "colab": {
          "base_uri": "https://localhost:8080/",
          "height": 36
        },
        "id": "0fRoF8oFhzEZ",
        "outputId": "4e5f5cde-42dc-4dd3-900f-b87936b05d39"
      },
      "execution_count": null,
      "outputs": [
        {
          "output_type": "execute_result",
          "data": {
            "text/plain": [
              "'HI MY NAME IS SOURABH'"
            ],
            "application/vnd.google.colaboratory.intrinsic+json": {
              "type": "string"
            }
          },
          "metadata": {},
          "execution_count": 13
        }
      ]
    },
    {
      "cell_type": "code",
      "source": [
        "#5. Converting string to byte\n",
        "\"convert string to bytes using encode method\".encode()\n",
        "#conversion between a string to bytes is more common these days due to the fact that for handling files or Machine Learning ( Pickle File )"
      ],
      "metadata": {
        "colab": {
          "base_uri": "https://localhost:8080/"
        },
        "id": "udwW-CsAj29-",
        "outputId": "6030b903-90f4-4ab3-d9f8-c31bb0549b78"
      },
      "execution_count": null,
      "outputs": [
        {
          "output_type": "execute_result",
          "data": {
            "text/plain": [
              "b'convert string to bytes using encode method'"
            ]
          },
          "metadata": {},
          "execution_count": 15
        }
      ]
    },
    {
      "cell_type": "code",
      "source": [
        "#6. Copy files\n",
        "import shutil; shutil.copyfile('/content/sample_data/source.txt', 'dest.txt')    #copy any file"
      ],
      "metadata": {
        "colab": {
          "base_uri": "https://localhost:8080/",
          "height": 36
        },
        "id": "Yku37TwJkg1A",
        "outputId": "a5669477-664d-4d99-abec-e0ee54e95a01"
      },
      "execution_count": null,
      "outputs": [
        {
          "output_type": "execute_result",
          "data": {
            "text/plain": [
              "'dest.txt'"
            ],
            "application/vnd.google.colaboratory.intrinsic+json": {
              "type": "string"
            }
          },
          "metadata": {},
          "execution_count": 20
        }
      ]
    },
    {
      "cell_type": "code",
      "source": [
        "#7. Quicksort\n",
        "x=[1,25,3]\n",
        "qsort = lambda l : l if len(l)<=1 else qsort([x for x in l[1:] if x < l[0]]) + [l[0]] + qsort([x for x in l[1:] if x >= l[0]])\n",
        "qsort([6,5,6,44])"
      ],
      "metadata": {
        "id": "H8W9-xBAnCw6",
        "colab": {
          "base_uri": "https://localhost:8080/"
        },
        "outputId": "6e348a9f-052d-4fff-e44d-f1b99d7e5f6f"
      },
      "execution_count": 24,
      "outputs": [
        {
          "output_type": "execute_result",
          "data": {
            "text/plain": [
              "[5, 6, 6, 44]"
            ]
          },
          "metadata": {},
          "execution_count": 24
        }
      ]
    },
    {
      "cell_type": "code",
      "source": [
        "#8. Sum of n consecutive numbers\n",
        "n=24\n",
        "#sum(range(0, n+1))   #range with increment by 1 and then add all.\n",
        "sum_n = n*(n+1)//2\n",
        "sum_n"
      ],
      "metadata": {
        "colab": {
          "base_uri": "https://localhost:8080/"
        },
        "id": "K6YgVPV1neHo",
        "outputId": "2ba4d003-81ba-4092-ec95-f98ccec33048"
      },
      "execution_count": null,
      "outputs": [
        {
          "output_type": "execute_result",
          "data": {
            "text/plain": [
              "300"
            ]
          },
          "metadata": {},
          "execution_count": 24
        }
      ]
    },
    {
      "cell_type": "code",
      "source": [
        "#9. Swap two values\n",
        "a=1\n",
        "b=2\n",
        "a,b = b,a\n",
        "a,b"
      ],
      "metadata": {
        "colab": {
          "base_uri": "https://localhost:8080/"
        },
        "id": "S4Z64knDnjg7",
        "outputId": "08c55055-ed83-47cf-f63a-7ce2d371ee28"
      },
      "execution_count": null,
      "outputs": [
        {
          "output_type": "execute_result",
          "data": {
            "text/plain": [
              "(2, 1)"
            ]
          },
          "metadata": {},
          "execution_count": 29
        }
      ]
    },
    {
      "cell_type": "code",
      "source": [
        "#10. Fibonacci series\n",
        "fib=lambda x: x if x<=1 else fib(x-1) + fib(x-2)\n",
        "fib(6)"
      ],
      "metadata": {
        "id": "yYAUKOMzp2la",
        "colab": {
          "base_uri": "https://localhost:8080/"
        },
        "outputId": "ef341e53-aed5-4d51-c73f-eed2c0e3ce68"
      },
      "execution_count": 44,
      "outputs": [
        {
          "output_type": "execute_result",
          "data": {
            "text/plain": [
              "8"
            ]
          },
          "metadata": {},
          "execution_count": 44
        }
      ]
    },
    {
      "cell_type": "code",
      "source": [
        "#11. Combine nested lists to a single list\n",
        "main_list='matplotlib'\n",
        "[item for sublist in main_list for item in sublist]"
      ],
      "metadata": {
        "colab": {
          "base_uri": "https://localhost:8080/"
        },
        "id": "8VGaxed5qqvB",
        "outputId": "8aa0d6f9-213f-40aa-dea0-82f530478bc9"
      },
      "execution_count": null,
      "outputs": [
        {
          "output_type": "execute_result",
          "data": {
            "text/plain": [
              "['m', 'a', 't', 'p', 'l', 'o', 't', 'l', 'i', 'b']"
            ]
          },
          "metadata": {},
          "execution_count": 45
        }
      ]
    },
    {
      "cell_type": "code",
      "source": [
        "#12. Run an HTTP server\n",
        "#(in complier only)\n",
        "python3 -m http.server 8000"
      ],
      "metadata": {
        "id": "GJfgOyhDsyj8"
      },
      "execution_count": null,
      "outputs": []
    },
    {
      "cell_type": "code",
      "source": [
        "#13. Reverse a list\n",
        "numbers=[0,1,2,3,4,5,6,7,8,9]\n",
        "numbers[::-1]                # start list from last number location and moves the list backwards, to reverse the list."
      ],
      "metadata": {
        "colab": {
          "base_uri": "https://localhost:8080/"
        },
        "id": "zSYt2W2juoPj",
        "outputId": "a4cf6a2f-dba2-4503-92c5-1088b83a24fa"
      },
      "execution_count": null,
      "outputs": [
        {
          "output_type": "execute_result",
          "data": {
            "text/plain": [
              "[9, 8, 7, 6, 5, 4, 3, 2, 1, 0]"
            ]
          },
          "metadata": {},
          "execution_count": 47
        }
      ]
    },
    {
      "cell_type": "code",
      "source": [
        "#14. Factorial of a number\n",
        "#factorial, in mathematics, the product of all positive integers less than or equal to a given positive integer\n",
        "import math; fact_5 = math.factorial(5)\n",
        "fact_5    #1*2*3*4*5=120"
      ],
      "metadata": {
        "colab": {
          "base_uri": "https://localhost:8080/"
        },
        "id": "OoU70WTKux7N",
        "outputId": "b3910db0-8856-4ba4-de4b-a3c56cea2694"
      },
      "execution_count": null,
      "outputs": [
        {
          "output_type": "execute_result",
          "data": {
            "text/plain": [
              "120"
            ]
          },
          "metadata": {},
          "execution_count": 49
        }
      ]
    },
    {
      "cell_type": "code",
      "source": [
        "#15. List comprehension using “for” and “if”\n",
        "[number for number in [1, 2, 3, 4] if number % 2 == 0]  #Checking only even number"
      ],
      "metadata": {
        "colab": {
          "base_uri": "https://localhost:8080/"
        },
        "id": "1AUIuRWvvAl3",
        "outputId": "3859e73c-75ea-4827-d13d-f2eb88deaed4"
      },
      "execution_count": null,
      "outputs": [
        {
          "output_type": "execute_result",
          "data": {
            "text/plain": [
              "[2, 4]"
            ]
          },
          "metadata": {},
          "execution_count": 51
        }
      ]
    },
    {
      "cell_type": "code",
      "source": [
        "#16. Longest string from a list\n",
        "words = ['This', 'is', 'a', 'listed', 'of', 'words']\n",
        "max(words, key=len)  "
      ],
      "metadata": {
        "colab": {
          "base_uri": "https://localhost:8080/",
          "height": 36
        },
        "id": "JGWVTQ38v0hZ",
        "outputId": "3d998885-903e-4dbf-f6ea-dfdf376dfc9b"
      },
      "execution_count": null,
      "outputs": [
        {
          "output_type": "execute_result",
          "data": {
            "text/plain": [
              "'listed'"
            ],
            "application/vnd.google.colaboratory.intrinsic+json": {
              "type": "string"
            }
          },
          "metadata": {},
          "execution_count": 52
        }
      ]
    },
    {
      "cell_type": "code",
      "source": [
        "#17. List comprehension\n",
        "list_c = [num for num in range(0,20)]  #Making list of given range\n",
        "list_c"
      ],
      "metadata": {
        "colab": {
          "base_uri": "https://localhost:8080/"
        },
        "id": "1jchgd75wjVV",
        "outputId": "efb3e3f3-a497-4edc-fc25-0f6aba6cd4aa"
      },
      "execution_count": null,
      "outputs": [
        {
          "output_type": "execute_result",
          "data": {
            "text/plain": [
              "[0, 1, 2, 3, 4, 5, 6, 7, 8, 9, 10, 11, 12, 13, 14, 15, 16, 17, 18, 19]"
            ]
          },
          "metadata": {},
          "execution_count": 67
        }
      ]
    },
    {
      "cell_type": "code",
      "source": [
        "#18. Set comprehension\n",
        "num_set = { num for num in range(0,20)}  #Making set of given range\n",
        "num_set"
      ],
      "metadata": {
        "colab": {
          "base_uri": "https://localhost:8080/"
        },
        "id": "rBnz9_T3w-HJ",
        "outputId": "8fd98c0d-2e4a-44f5-ff9d-48974a5e4e17"
      },
      "execution_count": null,
      "outputs": [
        {
          "output_type": "execute_result",
          "data": {
            "text/plain": [
              "{0, 1, 2, 3, 4, 5, 6, 7, 8, 9, 10, 11, 12, 13, 14, 15, 16, 17, 18, 19}"
            ]
          },
          "metadata": {},
          "execution_count": 57
        }
      ]
    },
    {
      "cell_type": "markdown",
      "source": [
        " The main difference between List and Set is that Set is unordered and contains different elements, whereas the list is ordered and can contain the same elements in it."
      ],
      "metadata": {
        "id": "XZMpUo8kxp3s"
      }
    },
    {
      "cell_type": "code",
      "source": [
        "#19. Dictionary comprehension\n",
        "dict_numbers = {x:x*x for x in range(1,5) }   #Making dictionary of given range by applying condition for keys and words\n",
        "dict_numbers"
      ],
      "metadata": {
        "colab": {
          "base_uri": "https://localhost:8080/"
        },
        "id": "Fa-n9i1oxOeD",
        "outputId": "b74a2afd-9620-46a4-a13b-7e9166fbbef4"
      },
      "execution_count": null,
      "outputs": [
        {
          "output_type": "execute_result",
          "data": {
            "text/plain": [
              "{1: 1, 2: 4, 3: 9, 4: 16}"
            ]
          },
          "metadata": {},
          "execution_count": 58
        }
      ]
    },
    {
      "cell_type": "code",
      "source": [
        "#20. if-else\n",
        "print(\"even\") if 4%2==0 else print(\"odd\")  #Checking even-odd using if-else."
      ],
      "metadata": {
        "colab": {
          "base_uri": "https://localhost:8080/"
        },
        "id": "HpHMjNbmx0vI",
        "outputId": "76daff94-0a27-4b15-e618-2de50269d960"
      },
      "execution_count": null,
      "outputs": [
        {
          "output_type": "stream",
          "name": "stdout",
          "text": [
            "even\n"
          ]
        }
      ]
    },
    {
      "cell_type": "code",
      "source": [
        "#21. Infinite while loop\n",
        "while 1:0  ##can't achieve 1 till 0 then while loop never ends."
      ],
      "metadata": {
        "id": "a7EPz5OJyBBS"
      },
      "execution_count": null,
      "outputs": []
    },
    {
      "cell_type": "code",
      "source": [
        "#22. Check the data type\n",
        "isinstance(2, int)\n",
        "isinstance(\"allwin\", str)\n",
        "isinstance([1,5,7], type(list))"
      ],
      "metadata": {
        "colab": {
          "base_uri": "https://localhost:8080/"
        },
        "id": "zVFwwiasyouf",
        "outputId": "b8a4950e-d0c6-4726-ba49-f7a4f6116411"
      },
      "execution_count": null,
      "outputs": [
        {
          "output_type": "execute_result",
          "data": {
            "text/plain": [
              "True"
            ]
          },
          "metadata": {},
          "execution_count": 72
        }
      ]
    },
    {
      "cell_type": "code",
      "source": [
        "#23. While loop\n",
        "a=5\n",
        "while a > 2: a = a - 1; print(a)  #while loop run till a=2"
      ],
      "metadata": {
        "id": "jXU7MjLazBAT",
        "colab": {
          "base_uri": "https://localhost:8080/"
        },
        "outputId": "4c6c69ef-e2f4-4593-f0ca-5c83ca24bc53"
      },
      "execution_count": null,
      "outputs": [
        {
          "output_type": "stream",
          "name": "stdout",
          "text": [
            "4\n",
            "3\n",
            "2\n"
          ]
        }
      ]
    },
    {
      "cell_type": "code",
      "source": [
        "#24. Write to a file using the print statement\n",
        "print(\"Hello, World!\", file=open('file.txt', 'w'))  #open of open file and w means write to change the file."
      ],
      "metadata": {
        "id": "Q3Lvuq_T125r"
      },
      "execution_count": null,
      "outputs": []
    },
    {
      "cell_type": "code",
      "source": [
        "#25. Count the frequency of a character in a string\n",
        "print(\"umbrella\".count('l'))"
      ],
      "metadata": {
        "colab": {
          "base_uri": "https://localhost:8080/"
        },
        "id": "ovgn79Cg2OqX",
        "outputId": "5fcf8f6b-3c98-4398-f935-1892df8be89b"
      },
      "execution_count": null,
      "outputs": [
        {
          "output_type": "stream",
          "name": "stdout",
          "text": [
            "2\n"
          ]
        }
      ]
    },
    {
      "cell_type": "code",
      "source": [
        "#Merge two lists\n",
        "list1=[1,2,3]\n",
        "list2=[4,5,6]\n",
        "list1.extend(list2)   \n",
        "list1"
      ],
      "metadata": {
        "colab": {
          "base_uri": "https://localhost:8080/"
        },
        "id": "ZcfCCWH22_0x",
        "outputId": "e161b1f0-c787-4393-d2d4-23c5daaba72b"
      },
      "execution_count": null,
      "outputs": [
        {
          "output_type": "execute_result",
          "data": {
            "text/plain": [
              "[1, 2, 3, 4, 5, 6]"
            ]
          },
          "metadata": {},
          "execution_count": 80
        }
      ]
    },
    {
      "cell_type": "code",
      "source": [
        "#Merge two dictionaries\n",
        "dict1={1: 1, 2: 4, 3: 9, 4: 16}\n",
        "dict2={1: 1, 2: 4, 3: 9, 4: 15}\n",
        "dict1.update(dict2)\n",
        "dict1"
      ],
      "metadata": {
        "colab": {
          "base_uri": "https://localhost:8080/"
        },
        "id": "-b0ZfBPF3Q-Q",
        "outputId": "63bd08bd-12b3-4fc4-d551-d23f79d03f5d"
      },
      "execution_count": null,
      "outputs": [
        {
          "output_type": "execute_result",
          "data": {
            "text/plain": [
              "{1: 1, 2: 4, 3: 9, 4: 15}"
            ]
          },
          "metadata": {},
          "execution_count": 83
        }
      ]
    },
    {
      "cell_type": "code",
      "source": [
        "#28. Merge two sets\n",
        "set1={1,2,3}\n",
        "set2={3,4,5}\n",
        "set1.update(set2)\n",
        "set1"
      ],
      "metadata": {
        "colab": {
          "base_uri": "https://localhost:8080/"
        },
        "id": "AltdrdCG3uxc",
        "outputId": "4d7b68bd-e52f-46ee-acb0-1792f7fb9336"
      },
      "execution_count": null,
      "outputs": [
        {
          "output_type": "execute_result",
          "data": {
            "text/plain": [
              "{1, 2, 3, 4, 5}"
            ]
          },
          "metadata": {},
          "execution_count": 84
        }
      ]
    },
    {
      "cell_type": "code",
      "source": [
        "#29. Timestamp\n",
        "import time; print(time.time())"
      ],
      "metadata": {
        "colab": {
          "base_uri": "https://localhost:8080/"
        },
        "id": "1w528E5V4Bpm",
        "outputId": "3cd73e2f-0cfc-4a02-b9be-6aef22a00d97"
      },
      "execution_count": null,
      "outputs": [
        {
          "output_type": "stream",
          "name": "stdout",
          "text": [
            "1678542130.4000733\n"
          ]
        }
      ]
    },
    {
      "cell_type": "code",
      "source": [
        "#30. Most frequent element\n",
        "test_list = [9, 4, 5, 5, 4, 5, 9, 5, 4]\n",
        "most_frequent_element = max(set(test_list), key=test_list.count)  #using max to find the maximum using number in the set\n",
        "most_frequent_element\n",
        "#or\n",
        "numbers = [9, 4, 5, 4, 4, 5, 9, 5, 4]\n",
        "\n",
        "from collections import Counter\n",
        "print(Counter(numbers).most_common()[0][0]) #form the numbers with their with descending value ,then print the top number in the list."
      ],
      "metadata": {
        "colab": {
          "base_uri": "https://localhost:8080/"
        },
        "id": "zSBTylfG4KcY",
        "outputId": "50e07642-e7f3-4553-dce3-40a9bdebd1b6"
      },
      "execution_count": null,
      "outputs": [
        {
          "output_type": "stream",
          "name": "stdout",
          "text": [
            "4\n"
          ]
        }
      ]
    },
    {
      "cell_type": "code",
      "source": [
        "#31. Nested list comprehension\n",
        "numbers = [[num] for num in range(10)]   #form numbers in square brackets and then add to list.\n",
        "numbers"
      ],
      "metadata": {
        "id": "o9lo2Mic6cos",
        "colab": {
          "base_uri": "https://localhost:8080/"
        },
        "outputId": "94387c41-f4a8-4df5-cd91-ffef809aec9c"
      },
      "execution_count": null,
      "outputs": [
        {
          "output_type": "execute_result",
          "data": {
            "text/plain": [
              "[[0], [1], [2], [3], [4], [5], [6], [7], [8], [9]]"
            ]
          },
          "metadata": {},
          "execution_count": 5
        }
      ]
    },
    {
      "cell_type": "code",
      "source": [
        "#32. Octal to decimal\n",
        "print(int('30', 8)) "
      ],
      "metadata": {
        "colab": {
          "base_uri": "https://localhost:8080/"
        },
        "id": "Y52lueC5sezg",
        "outputId": "8b3144b8-7a42-415a-954e-3122c71d0526"
      },
      "execution_count": null,
      "outputs": [
        {
          "output_type": "stream",
          "name": "stdout",
          "text": [
            "24\n"
          ]
        }
      ]
    },
    {
      "cell_type": "code",
      "source": [
        "#33. Convert key-value pair to dictionary\n",
        "dict(name='sourabh', age=20)   #To form a dictionary"
      ],
      "metadata": {
        "colab": {
          "base_uri": "https://localhost:8080/"
        },
        "id": "bnYoxu7rst5f",
        "outputId": "c519cb4f-e81d-47ac-d57a-2c5c80f222e6"
      },
      "execution_count": null,
      "outputs": [
        {
          "output_type": "execute_result",
          "data": {
            "text/plain": [
              "{'name': 'sourabh', 'age': 20}"
            ]
          },
          "metadata": {},
          "execution_count": 8
        }
      ]
    },
    {
      "cell_type": "code",
      "source": [
        "#34. Get quotient and remainder\n",
        "quotient, remainder = divmod(5,4)   \n",
        "quotient, remainder"
      ],
      "metadata": {
        "colab": {
          "base_uri": "https://localhost:8080/"
        },
        "id": "i0RhaxDrs7bQ",
        "outputId": "f4a0d1ea-c0f6-48c7-90e7-424587321f0a"
      },
      "execution_count": null,
      "outputs": [
        {
          "output_type": "execute_result",
          "data": {
            "text/plain": [
              "(1, 1)"
            ]
          },
          "metadata": {},
          "execution_count": 12
        }
      ]
    },
    {
      "cell_type": "code",
      "source": [
        "#35. Remove duplicate elements from a list\n",
        "list(set([4, 4, 5, 5, 6]))    "
      ],
      "metadata": {
        "colab": {
          "base_uri": "https://localhost:8080/"
        },
        "id": "vnwn5X8dtGrq",
        "outputId": "83b82c70-83f1-4528-f7a3-edd078e95d16"
      },
      "execution_count": null,
      "outputs": [
        {
          "output_type": "execute_result",
          "data": {
            "text/plain": [
              "[4, 5, 6]"
            ]
          },
          "metadata": {},
          "execution_count": 13
        }
      ]
    },
    {
      "cell_type": "code",
      "source": [
        "#36. Sort list in ascending order\n",
        "sorted([5, 2, 9, 1])      #using sorted funtion for ascending\n",
        "#or\n",
        "li = [5, 2, 9, 1]\n",
        "li.sort()\n",
        "li"
      ],
      "metadata": {
        "colab": {
          "base_uri": "https://localhost:8080/"
        },
        "id": "J49NMG_it0gI",
        "outputId": "b9899bfd-e423-4e9a-91cd-231be9b4fd35"
      },
      "execution_count": null,
      "outputs": [
        {
          "output_type": "execute_result",
          "data": {
            "text/plain": [
              "[1, 2, 5, 9]"
            ]
          },
          "metadata": {},
          "execution_count": 15
        }
      ]
    },
    {
      "cell_type": "code",
      "source": [
        "#37. Sort list in descending order\n",
        "sorted([5, 2, 9, 1], reverse=True) #using sorted funtion for descending"
      ],
      "metadata": {
        "colab": {
          "base_uri": "https://localhost:8080/"
        },
        "id": "Ms3uvlIRuAXz",
        "outputId": "e190bd9e-8756-4306-c1f1-4e3481cefeb6"
      },
      "execution_count": null,
      "outputs": [
        {
          "output_type": "execute_result",
          "data": {
            "text/plain": [
              "[9, 5, 2, 1]"
            ]
          },
          "metadata": {},
          "execution_count": 16
        }
      ]
    },
    {
      "cell_type": "code",
      "source": [
        "#38. Get a string of lower-case alphabets\n",
        "import string; print(string.ascii_lowercase)"
      ],
      "metadata": {
        "colab": {
          "base_uri": "https://localhost:8080/"
        },
        "id": "S_UEQJN7uOsM",
        "outputId": "98d6899a-59e2-4896-9a12-21edb7312b55"
      },
      "execution_count": null,
      "outputs": [
        {
          "output_type": "stream",
          "name": "stdout",
          "text": [
            "abcdefghijklmnopqrstuvwxyz\n"
          ]
        }
      ]
    },
    {
      "cell_type": "code",
      "source": [
        "#39. Get a string of upper case alphabets\n",
        "import string; print(string.ascii_uppercase)"
      ],
      "metadata": {
        "colab": {
          "base_uri": "https://localhost:8080/"
        },
        "id": "6GyCC4gxuXDV",
        "outputId": "edbe7ef7-9f67-4fd1-865f-adf4f837a920"
      },
      "execution_count": null,
      "outputs": [
        {
          "output_type": "stream",
          "name": "stdout",
          "text": [
            "ABCDEFGHIJKLMNOPQRSTUVWXYZ\n"
          ]
        }
      ]
    },
    {
      "cell_type": "code",
      "source": [
        "#40. Get a string of digits from 0 to 9\n",
        "import string; print(string.digits)"
      ],
      "metadata": {
        "colab": {
          "base_uri": "https://localhost:8080/"
        },
        "id": "USQxrHgbugJH",
        "outputId": "50e60824-25ea-4c8f-8f71-34322677e2b1"
      },
      "execution_count": null,
      "outputs": [
        {
          "output_type": "stream",
          "name": "stdout",
          "text": [
            "0123456789\n"
          ]
        }
      ]
    },
    {
      "cell_type": "code",
      "source": [
        "#41. Hexadecimal to decimal\n",
        "#format:int(number in inverted column,total numbers in the language)\n",
        "print(int('ff', 16))      "
      ],
      "metadata": {
        "colab": {
          "base_uri": "https://localhost:8080/"
        },
        "id": "eEE-wSOmumhw",
        "outputId": "d01a1cfd-1195-4ac8-b1e1-bb2cc1341a8f"
      },
      "execution_count": null,
      "outputs": [
        {
          "output_type": "stream",
          "name": "stdout",
          "text": [
            "255\n"
          ]
        }
      ]
    },
    {
      "cell_type": "code",
      "source": [
        "#42. Human readable DateTime\n",
        "import time; print(time.ctime())"
      ],
      "metadata": {
        "colab": {
          "base_uri": "https://localhost:8080/"
        },
        "id": "XUPQIGeYuunJ",
        "outputId": "ff13e353-579f-4ed9-f82d-f79de905f290"
      },
      "execution_count": null,
      "outputs": [
        {
          "output_type": "stream",
          "name": "stdout",
          "text": [
            "Sun Mar 12 02:52:10 2023\n"
          ]
        }
      ]
    },
    {
      "cell_type": "code",
      "source": [
        "#43. Convert a list of strings to integers\n",
        "list(map(int, ['1', '2', '3']))"
      ],
      "metadata": {
        "colab": {
          "base_uri": "https://localhost:8080/"
        },
        "id": "xhVogWwiu4ty",
        "outputId": "ba3b01c5-93b8-483f-b242-08ee5ea99b20"
      },
      "execution_count": null,
      "outputs": [
        {
          "output_type": "execute_result",
          "data": {
            "text/plain": [
              "[1, 2, 3]"
            ]
          },
          "metadata": {},
          "execution_count": 23
        }
      ]
    },
    {
      "cell_type": "code",
      "source": [
        "#44. Sort dictionary with keys\n",
        "x = {1: 2, 3: 4, 4: 3, 2: 1, 0: 0}\n",
        "{k: v for k, v in sorted(x.items(), key=lambda item: item[1])}"
      ],
      "metadata": {
        "colab": {
          "base_uri": "https://localhost:8080/"
        },
        "id": "2HxLHLJgvIHL",
        "outputId": "2de68e0a-1d8b-493b-d9fc-c00757002d8e"
      },
      "execution_count": null,
      "outputs": [
        {
          "output_type": "execute_result",
          "data": {
            "text/plain": [
              "{0: 0, 2: 1, 1: 2, 4: 3, 3: 4}"
            ]
          },
          "metadata": {},
          "execution_count": 24
        }
      ]
    },
    {
      "cell_type": "code",
      "source": [
        "#46. Rotate a list\n",
        "li = [1,2,3,4,5]\n",
        "n=5\n",
        "# right to left\n",
        "li[n:] + li[:n] # n is the no of rotations\n",
        "li[2:] + li[:2]\n",
        "# left to right\n",
        "li[-n:] + li[:-n]\n",
        "li[-1:] + li[:-1] \n",
        "li"
      ],
      "metadata": {
        "colab": {
          "base_uri": "https://localhost:8080/"
        },
        "id": "jNT33QsnvaHW",
        "outputId": "f9696beb-2512-4652-e461-548eca0cecc5"
      },
      "execution_count": null,
      "outputs": [
        {
          "output_type": "execute_result",
          "data": {
            "text/plain": [
              "[1, 2, 3, 4, 5]"
            ]
          },
          "metadata": {},
          "execution_count": 26
        }
      ]
    },
    {
      "cell_type": "code",
      "source": [
        "#47. Remove numbers from a string\n",
        "''.join(list(filter(lambda x: x.isalpha(), 'abc123def4fg56vcg2')))"
      ],
      "metadata": {
        "colab": {
          "base_uri": "https://localhost:8080/",
          "height": 36
        },
        "id": "86yWCOyFvvAi",
        "outputId": "511f7bda-ffa1-44a4-c6af-0d908f4ddb6c"
      },
      "execution_count": null,
      "outputs": [
        {
          "output_type": "execute_result",
          "data": {
            "text/plain": [
              "'abcdeffgvcg'"
            ],
            "application/vnd.google.colaboratory.intrinsic+json": {
              "type": "string"
            }
          },
          "metadata": {},
          "execution_count": 27
        }
      ]
    },
    {
      "cell_type": "code",
      "source": [
        "#48. Transpose matrix\n",
        "old_list = [[1, 2, 3], [3, 4, 6], [5, 6, 7]]\n",
        "list(list(x) for x in zip(old_list)) #not working\n",
        "#else use\n",
        "import numpy\n",
        "print(numpy.transpose(old_list))"
      ],
      "metadata": {
        "colab": {
          "base_uri": "https://localhost:8080/"
        },
        "id": "jdvAuZ6Lv7KD",
        "outputId": "0097d84d-e0c5-4b08-9a62-9478af6ee603"
      },
      "execution_count": 50,
      "outputs": [
        {
          "output_type": "stream",
          "name": "stdout",
          "text": [
            "[[1 3 5]\n",
            " [2 4 6]\n",
            " [3 6 7]]\n"
          ]
        }
      ]
    },
    {
      "cell_type": "code",
      "source": [
        "#49. Filter even numbers from a list\n",
        "list(filter(lambda x: x%2 == 0, [1, 2, 3, 4, 5, 6] ))"
      ],
      "metadata": {
        "colab": {
          "base_uri": "https://localhost:8080/"
        },
        "id": "IaGu4azmwKul",
        "outputId": "7c2502b5-b8bb-4653-e991-72b52b6c20ef"
      },
      "execution_count": null,
      "outputs": [
        {
          "output_type": "execute_result",
          "data": {
            "text/plain": [
              "[2, 4, 6]"
            ]
          },
          "metadata": {},
          "execution_count": 31
        }
      ]
    },
    {
      "cell_type": "code",
      "source": [
        "#50. Unpacking values\n",
        "a, b, *c = [1, 2, 3, 4, 5]\n",
        "print(a) \n",
        "print(b) \n",
        "print(c) "
      ],
      "metadata": {
        "colab": {
          "base_uri": "https://localhost:8080/"
        },
        "id": "YxpCVxA4woDh",
        "outputId": "347e99cb-45f9-4eca-8d03-5765291e5988"
      },
      "execution_count": null,
      "outputs": [
        {
          "output_type": "stream",
          "name": "stdout",
          "text": [
            "1\n",
            "2\n",
            "[3, 4, 5]\n"
          ]
        }
      ]
    },
    {
      "cell_type": "code",
      "source": [],
      "metadata": {
        "id": "4xUUKzG1w5Uj"
      },
      "execution_count": null,
      "outputs": []
    }
  ]
}